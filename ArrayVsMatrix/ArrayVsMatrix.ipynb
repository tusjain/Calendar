{
  "nbformat": 4,
  "nbformat_minor": 0,
  "metadata": {
    "colab": {
      "provenance": [],
      "authorship_tag": "ABX9TyN0K6DLyFRl5ArDBOkqdYPY",
      "include_colab_link": true
    },
    "kernelspec": {
      "name": "python3",
      "display_name": "Python 3"
    },
    "language_info": {
      "name": "python"
    }
  },
  "cells": [
    {
      "cell_type": "markdown",
      "metadata": {
        "id": "view-in-github",
        "colab_type": "text"
      },
      "source": [
        "<a href=\"https://colab.research.google.com/github/tusjain/Calendar/blob/master/ArrayVsMatrix/ArrayVsMatrix.ipynb\" target=\"_parent\"><img src=\"https://colab.research.google.com/assets/colab-badge.svg\" alt=\"Open In Colab\"/></a>"
      ]
    },
    {
      "cell_type": "code",
      "execution_count": null,
      "metadata": {
        "id": "4tgFoH8ugcu_"
      },
      "outputs": [],
      "source": []
    },
    {
      "cell_type": "markdown",
      "source": [
        "**Numpy Array**\n",
        "1. Any number of dimensions are possible for NumPy arrays.\n",
        "2. They are adaptable and capable of storing a variety of numerical data.\n",
        "3. For effective calculation, arrays provide strong operations.\n",
        "4. They are efficient with memory, especially for big datasets.\n",
        "5. Arrays stand out for their utility and versatility.\n",
        "6. With arrays, slicing and indexing are convenient\n",
        "7. For the analysis of multidimensional data, arrays are appropriate.\n",
        "8. Applications of scientific computing frequently employ arrays.\n",
        "**Matrix**\n",
        "1. Structures having rows and columns are called matrices, and they are exclusively two-dimensional.\n",
        "2. It is focused on performing and computing with linear algebra.\n",
        "3. For calculations involving linear algebra, it offers specialised techniques\n",
        "4. It makes data transformation and succinct representation easier.\n",
        "5. It makes arithmetic operations easier to understand and more efficient.\n",
        "6. The linear transformation and equation−solving processes benefit from the usage of matrices\n",
        "7. The best format for models and calculations in linear algebra is a matrix\n",
        "8. Robotics, engineering, and physics are a few domains where matrices are used"
      ],
      "metadata": {
        "id": "I3iP5TwsgddN"
      }
    }
  ]
}